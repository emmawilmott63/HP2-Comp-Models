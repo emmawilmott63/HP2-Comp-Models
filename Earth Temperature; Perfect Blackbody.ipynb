{
 "cells": [
  {
   "cell_type": "code",
   "execution_count": 4,
   "id": "73176825",
   "metadata": {},
   "outputs": [],
   "source": [
    "import numpy\n",
    "import math\n",
    "import pandas as pd"
   ]
  },
  {
   "cell_type": "markdown",
   "id": "5027908f",
   "metadata": {},
   "source": [
    "### Blackbody Temperature of Earth "
   ]
  },
  {
   "cell_type": "markdown",
   "id": "4c00dd28",
   "metadata": {},
   "source": [
    "CSV containing specified wavelengths"
   ]
  },
  {
   "cell_type": "code",
   "execution_count": 6,
   "id": "a7ca643e",
   "metadata": {},
   "outputs": [],
   "source": [
    "df = pd.read_csv('absorbtionspectra.csv')\n",
    "w = df.w"
   ]
  },
  {
   "cell_type": "markdown",
   "id": "d13f6610",
   "metadata": {},
   "source": [
    "Constants"
   ]
  },
  {
   "cell_type": "code",
   "execution_count": 7,
   "id": "354ea99c",
   "metadata": {},
   "outputs": [],
   "source": [
    "# Planck's constant\n",
    "h = 6.626*(10**-34)\n",
    "# speed of light\n",
    "c = 2.9979*(10**8)\n",
    "# Boltzmann's constant\n",
    "K = 1.381*(10**-23)\n",
    "A = 2*h*c*c\n",
    "B = h*c/K\n",
    "# mass of Earth\n",
    "m = 5.97*(10**24)\n",
    "# radius of Earth\n",
    "Re = 6378*1000\n",
    "# distance from Earth to sun\n",
    "d = 149600000000\n",
    "# radius of sun\n",
    "rs = 696000000\n",
    "# number of r's away from source\n",
    "D = (d/rs)**2\n",
    "\n",
    "# temperature of the Sun (K)\n",
    "Ts = 5772\n",
    "# temperatue of space (2)\n",
    "Te = 2"
   ]
  },
  {
   "cell_type": "markdown",
   "id": "513b47ff",
   "metadata": {},
   "source": [
    "Temperature of Earth"
   ]
  },
  {
   "cell_type": "code",
   "execution_count": 9,
   "id": "a364d6ef",
   "metadata": {},
   "outputs": [
    {
     "name": "stdout",
     "output_type": "stream",
     "text": [
      "Temperature of Earth 280.7568452536813 K\n"
     ]
    },
    {
     "name": "stderr",
     "output_type": "stream",
     "text": [
      "/var/folders/p3/678x5jr9329c83n3fr8gv_240000gp/T/ipykernel_94657/3796564050.py:20: RuntimeWarning: overflow encountered in double_scalars\n",
      "  SRoutnext = A/((w[j]**5)*((math.e**(B/(w[j]*Te))-1)))\n"
     ]
    }
   ],
   "source": [
    "dt = 10\n",
    "\n",
    "while abs(dt) > 0.001:\n",
    "# calculating spectral radiance at every wavelength\n",
    "    SRin = []\n",
    "    for i in range (len(w)-1):\n",
    "        # Planck's Law\n",
    "        SRinnext = A/((w[i]**5)*((math.e**(B/(w[i]*Ts))-1)))\n",
    "        dw = w[i+1]-w[i]\n",
    "# multiplying by dw to make a riemann sum\n",
    "        SRin.append(SRinnext*dw)\n",
    "# summing spectral radiance to get total radiance\n",
    "# accounting for the difference between surface radiance and radiance at Earth's distance\n",
    "    TRin = sum(SRin)/D\n",
    "# converting from intensity to power\n",
    "    Ein = TRin*math.pi*Re*Re\n",
    "# repeat for energy going out \n",
    "    SRout = []\n",
    "    for j in range (len(w)-1):\n",
    "        SRoutnext = A/((w[j]**5)*((math.e**(B/(w[j]*Te))-1)))\n",
    "        dw = w[j+1]-w[j]\n",
    "        SRout.append(SRoutnext*dw)\n",
    "    TRout = sum(SRout)\n",
    "    Eout = TRout*4*math.pi*Re*Re\n",
    "# calculating difference between energy in and out\n",
    "    dE = Ein - Eout\n",
    "    dt = dE/(10**16)\n",
    "# turning energy into temperature change\n",
    "    Te = Te + dt\n",
    "print(\"Temperature of Earth\", Te, \"K\")"
   ]
  }
 ],
 "metadata": {
  "kernelspec": {
   "display_name": "Python 3 (ipykernel)",
   "language": "python",
   "name": "python3"
  },
  "language_info": {
   "codemirror_mode": {
    "name": "ipython",
    "version": 3
   },
   "file_extension": ".py",
   "mimetype": "text/x-python",
   "name": "python",
   "nbconvert_exporter": "python",
   "pygments_lexer": "ipython3",
   "version": "3.9.12"
  }
 },
 "nbformat": 4,
 "nbformat_minor": 5
}
