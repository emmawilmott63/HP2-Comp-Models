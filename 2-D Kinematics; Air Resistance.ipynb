{
 "cells": [
  {
   "cell_type": "code",
   "execution_count": 1,
   "id": "340a04a7",
   "metadata": {},
   "outputs": [],
   "source": [
    "from matplotlib import pyplot as plt\n",
    "import math"
   ]
  },
  {
   "cell_type": "markdown",
   "id": "0a603c12",
   "metadata": {},
   "source": [
    "### Motion of an Object with Air Resistance"
   ]
  },
  {
   "cell_type": "markdown",
   "id": "ecc2cf72",
   "metadata": {},
   "source": [
    "Experimental Constants"
   ]
  },
  {
   "cell_type": "code",
   "execution_count": 11,
   "id": "10796384",
   "metadata": {},
   "outputs": [],
   "source": [
    "#initial x-position (m)\n",
    "x = 0\n",
    "# initial y-position (m)\n",
    "y = 0\n",
    "# angle of elavation (rad)\n",
    "theta = math.pi/4\n",
    "# initial launch velocity (m/s)\n",
    "v0 = 5\n",
    "# mass of object (kg)\n",
    "m = 0.029\n",
    "# air resistance constant\n",
    "b = 0.01"
   ]
  },
  {
   "cell_type": "markdown",
   "id": "4aebb949",
   "metadata": {},
   "source": [
    "2-D Projectile Trajectory"
   ]
  },
  {
   "cell_type": "code",
   "execution_count": 8,
   "id": "28a70cb3",
   "metadata": {},
   "outputs": [
    {
     "data": {
      "image/png": "[encoded data removed]",
      "text/plain": [
       "<Figure size 432x288 with 1 Axes>"
      ]
     },
     "metadata": {
      "needs_background": "light"
     },
     "output_type": "display_data"
    }
   ],
   "source": [
    "vx = v0*math.cos(theta)\n",
    "vy = v0*math.sin(theta)\n",
    "g = 9.8\n",
    "t = 0\n",
    "dt = 0.01\n",
    "\n",
    "while y >= (0):\n",
    "    v = (vx**2 + vy**2)**(1/2)\n",
    "    theta = math.atan(vy/vx)\n",
    "    y = y + vy*dt \n",
    "    ay = (-m*g - b*v*v*math.sin(theta))/m\n",
    "    vy = vy + ay*dt\n",
    "    x = x + vx*dt\n",
    "    ax = (-b*v*v*math.cos(theta))/m\n",
    "    vx = vx + ax*dt\n",
    "    t = t + dt\n",
    "    plt.plot(x, y, '.', color='black')\n",
    "plt.title(\"Trajectory Pathway\")\n",
    "plt.xlabel(\"X-Position (m)\")\n",
    "plt.ylabel(\"Y-Position (m)\")"
   ]
  },
  {
   "cell_type": "markdown",
   "id": "8cf4a889",
   "metadata": {},
   "source": [
    "1-D Motion"
   ]
  },
  {
   "cell_type": "code",
   "execution_count": 10,
   "id": "1a51b2af",
   "metadata": {},
   "outputs": [
    {
     "data": {
      "text/plain": [
       "Text(0, 0.5, 'Y-Position (m)')"
      ]
     },
     "execution_count": 10,
     "metadata": {},
     "output_type": "execute_result"
    },
    {
     "data": {
      "image/png": "[encoded data removed]",
      "text/plain": [
       "<Figure size 432x288 with 1 Axes>"
      ]
     },
     "metadata": {
      "needs_background": "light"
     },
     "output_type": "display_data"
    }
   ],
   "source": [
    "vx = v0*math.cos(theta)\n",
    "vy = v0*math.sin(theta)\n",
    "g = 9.8\n",
    "t = 0\n",
    "dt = 0.01\n",
    "\n",
    "while y >= (0):\n",
    "    v = (vx**2 + vy**2)**(1/2)\n",
    "    theta = math.atan(vy/vx)\n",
    "    y = y + vy*dt \n",
    "    ay = (-m*g - b*v*v*math.sin(theta))/m\n",
    "    vy = vy + ay*dt\n",
    "    x = x + vx*dt\n",
    "    ax = (-b*v*v*math.cos(theta))/m\n",
    "    vx = vx + ax*dt\n",
    "    t = t + dt\n",
    "    plt.plot(t, y, '.', color='black')\n",
    "\n",
    "plt.title(\"Y-Position vs Time\")\n",
    "plt.xlabel(\"Time (s)\")\n",
    "plt.ylabel(\"Y-Position (m)\")"
   ]
  },
  {
   "cell_type": "code",
   "execution_count": 12,
   "id": "7a2caeae",
   "metadata": {},
   "outputs": [
    {
     "data": {
      "text/plain": [
       "Text(0, 0.5, 'X-Position (m)')"
      ]
     },
     "execution_count": 12,
     "metadata": {},
     "output_type": "execute_result"
    },
    {
     "data": {
      "image/png": "[encoded data removed]",
      "text/plain": [
       "<Figure size 432x288 with 1 Axes>"
      ]
     },
     "metadata": {
      "needs_background": "light"
     },
     "output_type": "display_data"
    }
   ],
   "source": [
    "vx = v0*math.cos(theta)\n",
    "vy = v0*math.sin(theta)\n",
    "g = 9.8\n",
    "t = 0\n",
    "dt = 0.01\n",
    "\n",
    "while y >= (0):\n",
    "    v = (vx**2 + vy**2)**(1/2)\n",
    "    theta = math.atan(vy/vx)\n",
    "    y = y + vy*dt \n",
    "    ay = (-m*g - b*v*v*math.sin(theta))/m\n",
    "    vy = vy + ay*dt\n",
    "    x = x + vx*dt\n",
    "    ax = (-b*v*v*math.cos(theta))/m\n",
    "    vx = vx + ax*dt\n",
    "    t = t + dt\n",
    "    plt.plot(t, x, '.', color='black')\n",
    "\n",
    "plt.title(\"X-Position vs Time\")\n",
    "plt.xlabel(\"Time (s)\")\n",
    "plt.ylabel(\"X-Position (m)\")"
   ]
  },
  {
   "cell_type": "code",
   "execution_count": null,
   "id": "208427f5",
   "metadata": {},
   "outputs": [],
   "source": []
  }
 ],
 "metadata": {
  "kernelspec": {
   "display_name": "Python 3 (ipykernel)",
   "language": "python",
   "name": "python3"
  },
  "language_info": {
   "codemirror_mode": {
    "name": "ipython",
    "version": 3
   },
   "file_extension": ".py",
   "mimetype": "text/x-python",
   "name": "python",
   "nbconvert_exporter": "python",
   "pygments_lexer": "ipython3",
   "version": "3.9.12"
  }
 },
 "nbformat": 4,
 "nbformat_minor": 5
}
