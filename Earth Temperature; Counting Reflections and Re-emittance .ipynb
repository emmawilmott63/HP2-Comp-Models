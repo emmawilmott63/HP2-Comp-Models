{
 "cells": [
  {
   "cell_type": "code",
   "execution_count": 1,
   "id": "efd307fe",
   "metadata": {},
   "outputs": [],
   "source": [
    "import numpy\n",
    "import math\n",
    "import pandas as pd"
   ]
  },
  {
   "cell_type": "markdown",
   "id": "fc7c1a73",
   "metadata": {},
   "source": [
    "### Advanced Atmospheric Blackbody Temperature of Earth"
   ]
  },
  {
   "cell_type": "markdown",
   "id": "7f90e6e0",
   "metadata": {},
   "source": [
    "CSV containing specified wavelengths and corresponding absorption spectrum data"
   ]
  },
  {
   "cell_type": "code",
   "execution_count": 2,
   "id": "f242c524",
   "metadata": {},
   "outputs": [],
   "source": [
    "df = pd.read_csv('absorbtionspectra.csv')\n",
    "w = df.w\n",
    "ab = df.ab"
   ]
  },
  {
   "cell_type": "markdown",
   "id": "23c3c826",
   "metadata": {},
   "source": [
    "Constants\n"
   ]
  },
  {
   "cell_type": "code",
   "execution_count": 3,
   "id": "4f1a9070",
   "metadata": {},
   "outputs": [],
   "source": [
    "# Planck's constant\n",
    "h = 6.626*(10**-34)\n",
    "# speed of light\n",
    "c = 2.9979*(10**8)\n",
    "# Boltzmann's constant\n",
    "K = 1.381*(10**-23)\n",
    "A = 2*h*c*c\n",
    "B = h*c/K\n",
    "# mass of Earth\n",
    "m = 5.97*(10**24)\n",
    "# radius of Earth\n",
    "Re = 6378*1000\n",
    "# distance from Earth to sun\n",
    "d = 149600000000\n",
    "# radius of sun\n",
    "rs = 696000000\n",
    "# number of r's away from source\n",
    "D = (d/rs)**2\n",
    "\n",
    "# temperature of the Sun (K)\n",
    "Ts = 5772\n",
    "# temperatue of space (2)\n",
    "Te = 2"
   ]
  },
  {
   "cell_type": "markdown",
   "id": "5f63b080",
   "metadata": {},
   "source": [
    "Correction based on planetary albedo (~0.3) and non-directional scattering (assuming an equal probability of atmospheric particles re-emitting waves in any direction)"
   ]
  },
  {
   "cell_type": "code",
   "execution_count": 4,
   "id": "79248fe8",
   "metadata": {},
   "outputs": [],
   "source": [
    "# 1*abs[i] is absorbed\n",
    "# 0.7*trans[i] is transmitted\n",
    "# 0.3*trans[i] is transmitted and then reflected off Earth's surface\n",
    "    # 0.3*trans[i]*trans[i] is reflected back out\n",
    "    # 0.3*trans[i]*abs[i] is reabsorbed\n",
    "# Total trans = 0.7*trans[i] + 0.3*trans[i]*trans[i]\n",
    "# Total abs = 1*abs[i] + 0.3*trans[i]*abs[i]"
   ]
  },
  {
   "cell_type": "markdown",
   "id": "4d15576c",
   "metadata": {},
   "source": [
    "Temperature of Earth"
   ]
  },
  {
   "cell_type": "code",
   "execution_count": 7,
   "id": "520b5308",
   "metadata": {},
   "outputs": [
    {
     "name": "stderr",
     "output_type": "stream",
     "text": [
      "/var/folders/p3/678x5jr9329c83n3fr8gv_240000gp/T/ipykernel_94667/3483613221.py:21: RuntimeWarning: overflow encountered in double_scalars\n",
      "  SRoutnext = ab[j]*A/((w[j]**5)*((math.e**(B/(w[j]*Te))-1)))\n",
      "/var/folders/p3/678x5jr9329c83n3fr8gv_240000gp/T/ipykernel_94667/3483613221.py:22: RuntimeWarning: overflow encountered in double_scalars\n",
      "  SRoutabsnext = (1-ab[j])*A/((w[j]**5)*((math.e**(B/(w[j]*Te))-1)))\n"
     ]
    },
    {
     "name": "stdout",
     "output_type": "stream",
     "text": [
      "Temperature of Earth 282.33908738513327 K\n"
     ]
    }
   ],
   "source": [
    "dt = 10\n",
    "\n",
    "while abs(dt) > 0.00001:\n",
    "   # creating multiple arrays to sum\n",
    "    SRtransdirect = []\n",
    "    SRabsdirect = []\n",
    "    SRabsreflect = []\n",
    "    for i in range (len(w)-1):\n",
    "        SRtransnext = ab[i]*A/((w[i]**5)*((math.e**(B/(w[i]*Ts))-1)))\n",
    "        SRabsnext = (1-ab[i])*A/((w[i]**5)*((math.e**(B/(w[i]*Ts))-1)))\n",
    "        dw = w[i+1]-w[i]\n",
    "        SRtransdirect.append(0.7*SRtransnext*dw)\n",
    "        SRabsdirect.append(SRabsnext*dw)\n",
    "        SRabsreflect.append(0.3*SRtransnext*(1-ab[i])*dw)\n",
    "    TRtrans = sum(SRtransdirect)/D\n",
    "    TRabs = sum(SRabsdirect)/D + sum(SRabsreflect)/D\n",
    "    Ein = TRtrans*math.pi*Re*Re + 0.5*TRabs*math.pi*Re*Re\n",
    "    SRout = []\n",
    "    SRoutabs = []\n",
    "    for j in range (len(w)-1):\n",
    "        SRoutnext = ab[j]*A/((w[j]**5)*((math.e**(B/(w[j]*Te))-1)))\n",
    "        SRoutabsnext = (1-ab[j])*A/((w[j]**5)*((math.e**(B/(w[j]*Te))-1)))\n",
    "        dw = w[j+1]-w[j]\n",
    "        SRout.append(SRoutnext*dw)\n",
    "        SRoutabs.append(SRoutabsnext*dw)\n",
    "    TRout = sum(SRout) + 0.5*sum(SRoutabs)\n",
    "    Eout = TRout*4*math.pi*Re*Re\n",
    "    dE = Ein - Eout\n",
    "    dt = dE/(10**16)\n",
    "    Te = Te + dt\n",
    "print(\"Temperature of Earth\", Te, \"K\")"
   ]
  },
  {
   "cell_type": "code",
   "execution_count": null,
   "id": "5db275a0",
   "metadata": {},
   "outputs": [],
   "source": []
  }
 ],
 "metadata": {
  "kernelspec": {
   "display_name": "Python 3 (ipykernel)",
   "language": "python",
   "name": "python3"
  },
  "language_info": {
   "codemirror_mode": {
    "name": "ipython",
    "version": 3
   },
   "file_extension": ".py",
   "mimetype": "text/x-python",
   "name": "python",
   "nbconvert_exporter": "python",
   "pygments_lexer": "ipython3",
   "version": "3.9.12"
  }
 },
 "nbformat": 4,
 "nbformat_minor": 5
}
