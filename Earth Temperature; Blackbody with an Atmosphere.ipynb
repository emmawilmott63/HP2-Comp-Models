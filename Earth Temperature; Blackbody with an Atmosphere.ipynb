{
 "cells": [
  {
   "cell_type": "code",
   "execution_count": 1,
   "id": "a344f09d",
   "metadata": {},
   "outputs": [],
   "source": [
    "import numpy\n",
    "import math\n",
    "import pandas as pd"
   ]
  },
  {
   "cell_type": "markdown",
   "id": "6ca81b32",
   "metadata": {},
   "source": [
    "### Atmospheric Blackbody Temperature of Earth "
   ]
  },
  {
   "cell_type": "markdown",
   "id": "2bc93aa6",
   "metadata": {},
   "source": [
    "CSV containing specified wavelengths and corresponding absorption spectrum data"
   ]
  },
  {
   "cell_type": "code",
   "execution_count": 3,
   "id": "e18d4586",
   "metadata": {},
   "outputs": [],
   "source": [
    "df = pd.read_csv('absorbtionspectra.csv')\n",
    "w = df.w\n",
    "ab = df.ab"
   ]
  },
  {
   "cell_type": "markdown",
   "id": "c41235fb",
   "metadata": {},
   "source": [
    "Constants"
   ]
  },
  {
   "cell_type": "code",
   "execution_count": 19,
   "id": "51203849",
   "metadata": {},
   "outputs": [],
   "source": [
    "# Planck's constant\n",
    "h = 6.626*(10**-34)\n",
    "# speed of light\n",
    "c = 2.9979*(10**8)\n",
    "# Boltzmann's constant\n",
    "K = 1.381*(10**-23)\n",
    "A = 2*h*c*c\n",
    "B = h*c/K\n",
    "# mass of Earth\n",
    "m = 5.97*(10**24)\n",
    "# radius of Earth\n",
    "Re = 6378*1000\n",
    "# distance from Earth to sun\n",
    "d = 149600000000\n",
    "# radius of sun\n",
    "rs = 696000000\n",
    "# number of r's away from source\n",
    "D = (d/rs)**2\n",
    "\n",
    "# temperature of the Sun (K)\n",
    "Ts = 5772\n",
    "# temperatue of space (2)\n",
    "Te = 2"
   ]
  },
  {
   "cell_type": "markdown",
   "id": "466c366a",
   "metadata": {},
   "source": [
    "Temperature of Earth"
   ]
  },
  {
   "cell_type": "code",
   "execution_count": 21,
   "id": "f1e8e7b9",
   "metadata": {},
   "outputs": [
    {
     "name": "stderr",
     "output_type": "stream",
     "text": [
      "/var/folders/p3/678x5jr9329c83n3fr8gv_240000gp/T/ipykernel_94662/2449896412.py:9: RuntimeWarning: divide by zero encountered in double_scalars\n",
      "  SRinnext = ab[i]*A/((w[i]**5)*((math.e**(B/(ab[i]*w[i]*Ts))-1)))\n",
      "/var/folders/p3/678x5jr9329c83n3fr8gv_240000gp/T/ipykernel_94662/2449896412.py:21: RuntimeWarning: divide by zero encountered in double_scalars\n",
      "  SRoutnext = ab[j]*A/((w[j]**5)*((math.e**(B/(ab[j]*w[j]*Te))-1)))\n",
      "/var/folders/p3/678x5jr9329c83n3fr8gv_240000gp/T/ipykernel_94662/2449896412.py:21: RuntimeWarning: overflow encountered in double_scalars\n",
      "  SRoutnext = ab[j]*A/((w[j]**5)*((math.e**(B/(ab[j]*w[j]*Te))-1)))\n"
     ]
    },
    {
     "name": "stdout",
     "output_type": "stream",
     "text": [
      "Temperature of Earth 352.7916112822882 K\n"
     ]
    }
   ],
   "source": [
    "dt = 10\n",
    "\n",
    "while abs(dt) > 0.001:\n",
    "# calculating spectral radiance at every wavelength\n",
    "    SRin = []\n",
    "    for i in range (len(w)-1):\n",
    "        # Planck's Law\n",
    "        # multiplying by ab (transmission %) to tell total radiance transmitted through atmosphere\n",
    "        SRinnext = ab[i]*A/((w[i]**5)*((math.e**(B/(ab[i]*w[i]*Ts))-1)))\n",
    "        dw = w[i+1]-w[i]\n",
    "# multiplying by dw to make a riemann sum\n",
    "        SRin.append(SRinnext*dw)\n",
    "# summing spectral radiance to get total radiance\n",
    "# accounting for the difference between surface radiance and radiance at Earth's distance\n",
    "    TRin = sum(SRin)/D\n",
    "# converting from intensity to power\n",
    "    Ein = TRin*math.pi*Re*Re\n",
    "# repeat for energy going out \n",
    "    SRout = []\n",
    "    for j in range (len(w)-1):\n",
    "        SRoutnext = ab[j]*A/((w[j]**5)*((math.e**(B/(ab[j]*w[j]*Te))-1)))\n",
    "        dw = w[j+1]-w[j]\n",
    "        SRout.append(SRoutnext*dw)\n",
    "    TRout = sum(SRout)\n",
    "    Eout = TRout*4*math.pi*Re*Re\n",
    "# calculating difference between energy in and out\n",
    "    dE = Ein - Eout\n",
    "    dt = dE/(10**17)\n",
    "# turning energy into temperature change\n",
    "    Te = Te + dt\n",
    "print(\"Temperature of Earth\", Te, \"K\")"
   ]
  },
  {
   "cell_type": "markdown",
   "id": "bfa3b694",
   "metadata": {},
   "source": [
    "*If this number looks abnormally high, it's because it is. Water vapor has a large absorption band, especially near the wavelengths where the Earth normally radiates, trapping heat in and raising the Earth's temperature. The particular source for the data used in these models likely overestimated/overstated the effect of water vapor, and it is hard to get an accurate estimate for the entire planet since climate significantly varies regionally and seasonally."
   ]
  },
  {
   "cell_type": "code",
   "execution_count": null,
   "id": "886f916f",
   "metadata": {},
   "outputs": [],
   "source": []
  }
 ],
 "metadata": {
  "kernelspec": {
   "display_name": "Python 3 (ipykernel)",
   "language": "python",
   "name": "python3"
  },
  "language_info": {
   "codemirror_mode": {
    "name": "ipython",
    "version": 3
   },
   "file_extension": ".py",
   "mimetype": "text/x-python",
   "name": "python",
   "nbconvert_exporter": "python",
   "pygments_lexer": "ipython3",
   "version": "3.9.12"
  }
 },
 "nbformat": 4,
 "nbformat_minor": 5
}
